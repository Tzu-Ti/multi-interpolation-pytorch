{
 "cells": [
  {
   "cell_type": "code",
   "execution_count": 1,
   "metadata": {},
   "outputs": [],
   "source": [
    "import glob\n",
    "import os\n",
    "import random\n",
    "from tqdm import tqdm"
   ]
  },
  {
   "cell_type": "code",
   "execution_count": 2,
   "metadata": {},
   "outputs": [
    {
     "data": {
      "text/plain": [
       "3610"
      ]
     },
     "execution_count": 2,
     "metadata": {},
     "output_type": "execute_result"
    }
   ],
   "source": [
    "vimeo_path = '../data/vimeo90K_Done/*'\n",
    "vimeo_path_list = glob.glob(vimeo_path)\n",
    "random.shuffle(vimeo_path_list)\n",
    "len(vimeo_path_list)"
   ]
  },
  {
   "cell_type": "code",
   "execution_count": 3,
   "metadata": {},
   "outputs": [
    {
     "name": "stdout",
     "output_type": "stream",
     "text": [
      "../data/vimeo90K_Done/3120\n"
     ]
    }
   ],
   "source": [
    "print(vimeo_path_list[0])"
   ]
  },
  {
   "cell_type": "code",
   "execution_count": 4,
   "metadata": {},
   "outputs": [],
   "source": [
    "train_path_list = vimeo_path_list[:len(vimeo_path_list)//2]\n",
    "test_path_list = vimeo_path_list[len(vimeo_path_list)//2:]"
   ]
  },
  {
   "cell_type": "code",
   "execution_count": 5,
   "metadata": {},
   "outputs": [],
   "source": [
    "train_list, test_list = [], []"
   ]
  },
  {
   "cell_type": "code",
   "execution_count": 6,
   "metadata": {},
   "outputs": [
    {
     "name": "stderr",
     "output_type": "stream",
     "text": [
      "100%|██████████| 1805/1805 [00:02<00:00, 714.65it/s]\n"
     ]
    },
    {
     "data": {
      "text/plain": [
       "['../data/vimeo90K_Done/3120/0003',\n",
       " '../data/vimeo90K_Done/3120/0001',\n",
       " '../data/vimeo90K_Done/3120/0006',\n",
       " '../data/vimeo90K_Done/3120/0005',\n",
       " '../data/vimeo90K_Done/3120/0010']"
      ]
     },
     "execution_count": 6,
     "metadata": {},
     "output_type": "execute_result"
    }
   ],
   "source": [
    "for path in tqdm(train_path_list):\n",
    "    p = glob.glob(path+'/*')\n",
    "    for t in p:\n",
    "        train_list.append(t)\n",
    "\n",
    "train_list[:5]"
   ]
  },
  {
   "cell_type": "code",
   "execution_count": 7,
   "metadata": {},
   "outputs": [
    {
     "name": "stderr",
     "output_type": "stream",
     "text": [
      "100%|██████████| 1805/1805 [00:02<00:00, 811.34it/s]\n"
     ]
    },
    {
     "data": {
      "text/plain": [
       "['../data/vimeo90K_Done/0508/0003',\n",
       " '../data/vimeo90K_Done/0508/0033',\n",
       " '../data/vimeo90K_Done/0508/0001',\n",
       " '../data/vimeo90K_Done/0508/0014',\n",
       " '../data/vimeo90K_Done/0508/0044']"
      ]
     },
     "execution_count": 7,
     "metadata": {},
     "output_type": "execute_result"
    }
   ],
   "source": [
    "for path in tqdm(test_path_list):\n",
    "    p = glob.glob(path+'/*')\n",
    "    for t in p:\n",
    "        test_list.append(t)\n",
    "\n",
    "test_list[:5]"
   ]
  },
  {
   "cell_type": "code",
   "execution_count": 8,
   "metadata": {},
   "outputs": [],
   "source": [
    "with open(\"train_list.txt\", 'a') as f:\n",
    "    f.writelines([\"%s\\n\" % path  for path in train_list])"
   ]
  },
  {
   "cell_type": "code",
   "execution_count": 11,
   "metadata": {},
   "outputs": [],
   "source": [
    "with open(\"test_list.txt\", 'a') as f:\n",
    "    f.writelines([\"%s\\n\" % path  for path in test_list])"
   ]
  },
  {
   "cell_type": "code",
   "execution_count": 12,
   "metadata": {},
   "outputs": [],
   "source": [
    "sample320_list = random.shuffle(test_list)\n",
    "with open(\"test_list400.txt\", 'a') as f:\n",
    "    f.writelines([\"%s\\n\" % path  for path in test_list[:400]])"
   ]
  },
  {
   "cell_type": "code",
   "execution_count": null,
   "metadata": {},
   "outputs": [],
   "source": []
  }
 ],
 "metadata": {
  "kernelspec": {
   "display_name": "Python 3",
   "language": "python",
   "name": "python3"
  },
  "language_info": {
   "codemirror_mode": {
    "name": "ipython",
    "version": 3
   },
   "file_extension": ".py",
   "mimetype": "text/x-python",
   "name": "python",
   "nbconvert_exporter": "python",
   "pygments_lexer": "ipython3",
   "version": "3.6.9"
  }
 },
 "nbformat": 4,
 "nbformat_minor": 4
}
