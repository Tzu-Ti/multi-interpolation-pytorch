{
 "cells": [
  {
   "cell_type": "code",
   "execution_count": 1,
   "metadata": {},
   "outputs": [
    {
     "data": {
      "text/plain": [
       "['datasets/UCF-101/ApplyEyeMakeup/v_ApplyEyeMakeup_g24_c01.avi 1-11',\n",
       " 'datasets/UCF-101/ApplyEyeMakeup/v_ApplyEyeMakeup_g24_c02.avi 1-11',\n",
       " 'datasets/UCF-101/ApplyEyeMakeup/v_ApplyEyeMakeup_g24_c03.avi 1-11',\n",
       " 'datasets/UCF-101/ApplyEyeMakeup/v_ApplyEyeMakeup_g24_c04.avi 1-11',\n",
       " 'datasets/UCF-101/ApplyEyeMakeup/v_ApplyEyeMakeup_g24_c05.avi 1-11']"
      ]
     },
     "execution_count": 1,
     "metadata": {},
     "output_type": "execute_result"
    }
   ],
   "source": [
    "origin = 'val_data_list_11.txt'\n",
    "f = open(origin, 'r')\n",
    "d = [line.strip() for line in f.readlines()]\n",
    "d[:5]"
   ]
  },
  {
   "cell_type": "code",
   "execution_count": 2,
   "metadata": {},
   "outputs": [
    {
     "data": {
      "text/plain": [
       "['data/UCF-101/ApplyEyeMakeup/v_ApplyEyeMakeup_g24_c01.avi 1-11\\n',\n",
       " 'data/UCF-101/ApplyEyeMakeup/v_ApplyEyeMakeup_g24_c02.avi 1-11\\n',\n",
       " 'data/UCF-101/ApplyEyeMakeup/v_ApplyEyeMakeup_g24_c03.avi 1-11\\n',\n",
       " 'data/UCF-101/ApplyEyeMakeup/v_ApplyEyeMakeup_g24_c04.avi 1-11\\n',\n",
       " 'data/UCF-101/ApplyEyeMakeup/v_ApplyEyeMakeup_g24_c05.avi 1-11\\n']"
      ]
     },
     "execution_count": 2,
     "metadata": {},
     "output_type": "execute_result"
    }
   ],
   "source": [
    "d2 = [(l.split('sets')[0] + l.split('sets')[1] + '\\n') for l in d]\n",
    "d2[:5]"
   ]
  },
  {
   "cell_type": "code",
   "execution_count": 3,
   "metadata": {},
   "outputs": [],
   "source": [
    "f = open('val_data_list_11.txt', 'w')\n",
    "f.writelines(d2)\n",
    "f.close()"
   ]
  },
  {
   "cell_type": "code",
   "execution_count": null,
   "metadata": {},
   "outputs": [],
   "source": []
  }
 ],
 "metadata": {
  "kernelspec": {
   "display_name": "Python 3",
   "language": "python",
   "name": "python3"
  },
  "language_info": {
   "codemirror_mode": {
    "name": "ipython",
    "version": 3
   },
   "file_extension": ".py",
   "mimetype": "text/x-python",
   "name": "python",
   "nbconvert_exporter": "python",
   "pygments_lexer": "ipython3",
   "version": "3.6.7"
  }
 },
 "nbformat": 4,
 "nbformat_minor": 4
}
